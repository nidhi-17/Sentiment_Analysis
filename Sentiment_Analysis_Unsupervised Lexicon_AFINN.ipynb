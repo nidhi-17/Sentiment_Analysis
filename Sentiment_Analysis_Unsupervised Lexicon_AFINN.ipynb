{
 "cells": [
  {
   "cell_type": "markdown",
   "id": "99780cbb",
   "metadata": {},
   "source": [
    "# Name: Nidhi Bangera \n",
    "# Project : Sentiment Analysis using NLP Libraries\n",
    "# Unsupervised Lexicons"
   ]
  },
  {
   "cell_type": "markdown",
   "id": "c4cf9baf",
   "metadata": {},
   "source": [
    "# Sentiment analysis using AFINN Lexicon"
   ]
  },
  {
   "cell_type": "markdown",
   "id": "d474d7bf",
   "metadata": {},
   "source": [
    "**LOADING DATASET**"
   ]
  },
  {
   "cell_type": "code",
   "execution_count": 1,
   "id": "c9b5be0c",
   "metadata": {},
   "outputs": [
    {
     "data": {
      "text/html": [
       "<div>\n",
       "<style scoped>\n",
       "    .dataframe tbody tr th:only-of-type {\n",
       "        vertical-align: middle;\n",
       "    }\n",
       "\n",
       "    .dataframe tbody tr th {\n",
       "        vertical-align: top;\n",
       "    }\n",
       "\n",
       "    .dataframe thead th {\n",
       "        text-align: right;\n",
       "    }\n",
       "</style>\n",
       "<table border=\"1\" class=\"dataframe\">\n",
       "  <thead>\n",
       "    <tr style=\"text-align: right;\">\n",
       "      <th></th>\n",
       "      <th>sentiment</th>\n",
       "      <th>review</th>\n",
       "    </tr>\n",
       "  </thead>\n",
       "  <tbody>\n",
       "    <tr>\n",
       "      <th>0</th>\n",
       "      <td>1</td>\n",
       "      <td>one reviewer ha mentioned watching 1 oz episod...</td>\n",
       "    </tr>\n",
       "    <tr>\n",
       "      <th>1</th>\n",
       "      <td>1</td>\n",
       "      <td>wonderful little production filming technique ...</td>\n",
       "    </tr>\n",
       "    <tr>\n",
       "      <th>2</th>\n",
       "      <td>1</td>\n",
       "      <td>thought wa wonderful way spend time hot summer...</td>\n",
       "    </tr>\n",
       "    <tr>\n",
       "      <th>3</th>\n",
       "      <td>0</td>\n",
       "      <td>basically family little boy jake think zombie ...</td>\n",
       "    </tr>\n",
       "    <tr>\n",
       "      <th>4</th>\n",
       "      <td>1</td>\n",
       "      <td>petter matteis love time money visually stunni...</td>\n",
       "    </tr>\n",
       "  </tbody>\n",
       "</table>\n",
       "</div>"
      ],
      "text/plain": [
       "   sentiment                                             review\n",
       "0          1  one reviewer ha mentioned watching 1 oz episod...\n",
       "1          1  wonderful little production filming technique ...\n",
       "2          1  thought wa wonderful way spend time hot summer...\n",
       "3          0  basically family little boy jake think zombie ...\n",
       "4          1  petter matteis love time money visually stunni..."
      ]
     },
     "execution_count": 1,
     "metadata": {},
     "output_type": "execute_result"
    }
   ],
   "source": [
    "import pandas as pd\n",
    "dataset=pd.read_csv(r'C:\\Users\\HP\\Downloads\\movie_review.csv')\n",
    "dataset.head()"
   ]
  },
  {
   "cell_type": "code",
   "execution_count": 2,
   "id": "ee17e8de",
   "metadata": {},
   "outputs": [],
   "source": [
    "dataset['sentiment'].replace({1:'positive',0:'negative'}, inplace=True)"
   ]
  },
  {
   "cell_type": "code",
   "execution_count": 3,
   "id": "36dcea84",
   "metadata": {},
   "outputs": [
    {
     "data": {
      "text/html": [
       "<div>\n",
       "<style scoped>\n",
       "    .dataframe tbody tr th:only-of-type {\n",
       "        vertical-align: middle;\n",
       "    }\n",
       "\n",
       "    .dataframe tbody tr th {\n",
       "        vertical-align: top;\n",
       "    }\n",
       "\n",
       "    .dataframe thead th {\n",
       "        text-align: right;\n",
       "    }\n",
       "</style>\n",
       "<table border=\"1\" class=\"dataframe\">\n",
       "  <thead>\n",
       "    <tr style=\"text-align: right;\">\n",
       "      <th></th>\n",
       "      <th>sentiment</th>\n",
       "      <th>review</th>\n",
       "    </tr>\n",
       "  </thead>\n",
       "  <tbody>\n",
       "    <tr>\n",
       "      <th>0</th>\n",
       "      <td>positive</td>\n",
       "      <td>one reviewer ha mentioned watching 1 oz episod...</td>\n",
       "    </tr>\n",
       "    <tr>\n",
       "      <th>1</th>\n",
       "      <td>positive</td>\n",
       "      <td>wonderful little production filming technique ...</td>\n",
       "    </tr>\n",
       "    <tr>\n",
       "      <th>2</th>\n",
       "      <td>positive</td>\n",
       "      <td>thought wa wonderful way spend time hot summer...</td>\n",
       "    </tr>\n",
       "    <tr>\n",
       "      <th>3</th>\n",
       "      <td>negative</td>\n",
       "      <td>basically family little boy jake think zombie ...</td>\n",
       "    </tr>\n",
       "    <tr>\n",
       "      <th>4</th>\n",
       "      <td>positive</td>\n",
       "      <td>petter matteis love time money visually stunni...</td>\n",
       "    </tr>\n",
       "  </tbody>\n",
       "</table>\n",
       "</div>"
      ],
      "text/plain": [
       "  sentiment                                             review\n",
       "0  positive  one reviewer ha mentioned watching 1 oz episod...\n",
       "1  positive  wonderful little production filming technique ...\n",
       "2  positive  thought wa wonderful way spend time hot summer...\n",
       "3  negative  basically family little boy jake think zombie ...\n",
       "4  positive  petter matteis love time money visually stunni..."
      ]
     },
     "execution_count": 3,
     "metadata": {},
     "output_type": "execute_result"
    }
   ],
   "source": [
    "dataset.head()"
   ]
  },
  {
   "cell_type": "markdown",
   "id": "4196da17",
   "metadata": {},
   "source": [
    "**Importing afinn**"
   ]
  },
  {
   "cell_type": "code",
   "execution_count": 4,
   "id": "053f8996",
   "metadata": {},
   "outputs": [],
   "source": [
    "from afinn import Afinn\n",
    "afn = Afinn()"
   ]
  },
  {
   "cell_type": "code",
   "execution_count": 5,
   "id": "a4d96769",
   "metadata": {},
   "outputs": [],
   "source": [
    "import numpy as np\n",
    "reviews = np.array(dataset['review'])\n",
    "sentiments = np.array(dataset['sentiment'])"
   ]
  },
  {
   "cell_type": "markdown",
   "id": "4beb27f9",
   "metadata": {},
   "source": [
    "**Normalizing data**"
   ]
  },
  {
   "cell_type": "code",
   "execution_count": 6,
   "id": "e972872c",
   "metadata": {},
   "outputs": [],
   "source": [
    "# extract data for model evaluation\n",
    "test_reviews = reviews[35000:]\n",
    "test_sentiments = sentiments[35000:]\n",
    "sample_review_ids = [7626, 3533, 13010]"
   ]
  },
  {
   "cell_type": "markdown",
   "id": "88139e73",
   "metadata": {},
   "source": [
    "**Predict sentiments for test data**"
   ]
  },
  {
   "cell_type": "code",
   "execution_count": 7,
   "id": "2a3bf2af",
   "metadata": {},
   "outputs": [
    {
     "name": "stdout",
     "output_type": "stream",
     "text": [
      "REVIEW: comment stupid movie acting average worse screenplay sense skip\n",
      "Actual Sentiment: negative\n",
      "Predicted Sentiment polarity: -5.0\n",
      "--------------------------------------------------\n",
      "REVIEW: dont care people voted movie bad want truth good movie ha every thing movie really get one\n",
      "Actual Sentiment: positive\n",
      "Predicted Sentiment polarity: 5.0\n",
      "--------------------------------------------------\n",
      "REVIEW: worst horror film ever funniest film ever rolled one got see film cheap unbeliaveble see really p watch carrot\n",
      "Actual Sentiment: positive\n",
      "Predicted Sentiment polarity: -3.0\n",
      "--------------------------------------------------\n"
     ]
    }
   ],
   "source": [
    "for review, sentiment in zip(test_reviews[sample_review_ids], test_sentiments[sample_review_ids]):\n",
    "    print('REVIEW:', review)\n",
    "    print('Actual Sentiment:', sentiment)\n",
    "    print('Predicted Sentiment polarity:', afn.score(review))\n",
    "    print('-'*50)"
   ]
  },
  {
   "cell_type": "code",
   "execution_count": 8,
   "id": "b73c34c2",
   "metadata": {},
   "outputs": [],
   "source": [
    "sentiment_polarity = [afn.score(review) for review in test_reviews]\n",
    "pred_sentiment = ['positive' if score>0 \n",
    "                              else 'negative'\n",
    "                                    for score in sentiment_polarity]"
   ]
  },
  {
   "cell_type": "markdown",
   "id": "fd127dce",
   "metadata": {},
   "source": [
    "**Evaluate model Performance**"
   ]
  },
  {
   "cell_type": "code",
   "execution_count": 10,
   "id": "cf5c27c8",
   "metadata": {},
   "outputs": [],
   "source": [
    "import model_evaluation_utils as meu"
   ]
  },
  {
   "cell_type": "code",
   "execution_count": 11,
   "id": "d64f36be",
   "metadata": {},
   "outputs": [
    {
     "name": "stdout",
     "output_type": "stream",
     "text": [
      "Model Performance metrics:\n",
      "------------------------------\n",
      "Accuracy: 0.6913\n",
      "Precision: 0.7211\n",
      "Recall: 0.6913\n",
      "F1 Score: 0.6805\n",
      "\n",
      "Model Classification report:\n",
      "------------------------------\n",
      "              precision    recall  f1-score   support\n",
      "\n",
      "    positive       0.64      0.88      0.74      7510\n",
      "    negative       0.80      0.51      0.62      7490\n",
      "\n",
      "    accuracy                           0.69     15000\n",
      "   macro avg       0.72      0.69      0.68     15000\n",
      "weighted avg       0.72      0.69      0.68     15000\n",
      "\n",
      "\n",
      "Prediction Confusion Matrix:\n",
      "------------------------------\n",
      "                 Predicted:         \n",
      "                   positive negative\n",
      "Actual: positive       6573      937\n",
      "        negative       3693     3797\n"
     ]
    }
   ],
   "source": [
    "meu.display_model_performance_metrics(true_labels=test_sentiments, predicted_labels=pred_sentiment, \n",
    "                                  classes=['positive', 'negative'])"
   ]
  }
 ],
 "metadata": {
  "kernelspec": {
   "display_name": "Python 3",
   "language": "python",
   "name": "python3"
  },
  "language_info": {
   "codemirror_mode": {
    "name": "ipython",
    "version": 3
   },
   "file_extension": ".py",
   "mimetype": "text/x-python",
   "name": "python",
   "nbconvert_exporter": "python",
   "pygments_lexer": "ipython3",
   "version": "3.9.5"
  }
 },
 "nbformat": 4,
 "nbformat_minor": 5
}
